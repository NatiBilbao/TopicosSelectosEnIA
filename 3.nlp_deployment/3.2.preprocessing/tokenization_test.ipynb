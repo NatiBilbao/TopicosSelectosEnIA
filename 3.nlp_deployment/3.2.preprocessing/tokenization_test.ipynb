{
 "cells": [
  {
   "cell_type": "code",
   "execution_count": null,
   "metadata": {},
   "outputs": [],
   "source": [
    "import spacy"
   ]
  },
  {
   "cell_type": "markdown",
   "metadata": {},
   "source": [
    "## Cargar el modelo a usar"
   ]
  },
  {
   "cell_type": "code",
   "execution_count": null,
   "metadata": {},
   "outputs": [],
   "source": [
    "nlp = spacy.load(\"es_core_news_md\")"
   ]
  },
  {
   "cell_type": "code",
   "execution_count": null,
   "metadata": {},
   "outputs": [],
   "source": [
    "nlp"
   ]
  },
  {
   "cell_type": "markdown",
   "metadata": {},
   "source": [
    "## Tokenizar"
   ]
  },
  {
   "cell_type": "code",
   "execution_count": null,
   "metadata": {},
   "outputs": [],
   "source": [
    "text = \"\"\"Los incendios que se reactivaron con fuerza las últimas semanas, en especial en el norte de La Paz y Beni, son calificados como un “intento de sabotear” al Gobierno de Luis Arce. Por tal motivo, se envió policías de Inteligencia al norte de La Paz y Beni para identificar, aprehender y procesar a los supuestos saboteadores.\n",
    "\n",
    "“Se ha activado (un) grupo de inteligencia de la Policía que se va a desplazar, particularmente en el municipio de Rurrenabaque (Beni) y San Buenaventura (La Paz), porque sospechamos, y existen evidencias que nos han enviado de llantas, existen evidencias que allá ya han detenido personas que están dedicándose a la tarea maliciosa, a la tarea malintencionada de provocar estos incendios”, dijo el ministro de Defensa Edmundo Novillo.\n",
    "\n",
    "La autoridad pidió ayuda a la población para identificar a estos “malos ciudadanos”, que según la perspectiva del Ejecutivo, actúan con “intereses oscuros, como pasó anteriormente. No vamos a permitir, de ninguna manera, que gente y personas que están provocando estos incendios queden impunes, sino vamos a ser muy drásticos con todos ellos. Por eso la Policía está desplazando Inteligencia al lugar”.\n",
    "\n",
    "\n",
    "En esa línea, el vicepresidente, David Choquehuanca, exigió que se investigue y castigue a los que buscan sabotear la gestión de Gobierno.\n",
    "\n",
    "“Exigimos a las autoridades competentes celeridad en la investigación y un castigo ejemplar para aquellos que atentan contra la vida y la naturaleza, provocando incendios en un intento de sabotear a nuestro Gobierno”, se lee en las cuentas de redes sociales de Choquehuanca.\n",
    "\n",
    "Además de aquello, el Gobierno activó con la ABT (Autoridad de Fiscalización y Control Social de Bosques y Tierras), controles en los chaqueos. El ministro Novillo hizo énfasis en apuntar a los empresarios agropecuarios medianos y grandes, a quienes advirtió con procesos.\n",
    "\n",
    "\n",
    "La autoridad dijo que se controlará “toda actividad que pueda hacerse en los incendios en propiedades medianas y grandes ganaderas. Verificar si éstos tienen o no tienen sus autorizaciones para la quema y si estas han expirado el tiempo y si no, vamos a notificarles y vamos a iniciarles los procesos respectivos”. \n",
    "\n",
    "No obstante, Novillo evitó mencionar a los grupos de avasalladores interculturales se asientan en tierras fiscales y privadas y que también tienen denuncias de chaqueos.\n",
    "\n",
    "\n",
    "Campesinos detenidos\n",
    "\n",
    "Desde la Coordinadora Nacional de Defensa de Territorios Indígenas Originarios Campesinos y Áreas Protegidas de Bolivia (Contiocap) denunciaron que en los últimos días en el municipio de San Buenaventura la Policía aprehendió a dos campesinos que estaban haciendo defensivos para que el fuego no avance. La Policía los acusó de provocar los incendios porque estaban con maquinaria.\n",
    "\n",
    "“El Gobierno ha detenido a comunarios de la población de Tumupasa, a dos hermanos de una comunidad campesina que han sido detenidos con una segadora, una motosierra y con un poco de gasolina. Ellos lo que estaban haciendo era intentar hacerdefensivos, abrir brechas para separar el fuego y que no avance. Ellos han usado la poca gasolina que tenían y sus herramientas como evidencia de que están provocando incendios”, dijo a EL DEBER la representante de la Contiocap, Ruth Alipaz.\n",
    "\n",
    "La representante protestó y dijo que el “Gobierno está haciendo un trabajo pésimo, vulnerando derechos de las personas que están luchando sin ayuda del Gobierno hace más de un mes contra los incendios y los muestra como trofeos”.\n",
    "\n",
    "Después de varias semanas de emergencia e insistentes pedidos de los indígenas, organizaciones sociales, activistas y políticos, de que se declare “Desastre Nacional”, anoche el presidente Luis Arce convocó a un gabinete para tratar la crisis del medioambiente, y determinó pedir ayuda internacional a cuatro países: Francia, Chile, Brasil y Venezuela.\n",
    "\n",
    "Éste último envió de manera inmediata un grupo de bomberos expertos en apagar incendios forestales.\"\"\"\n",
    "\n",
    "\n",
    "doc = nlp(text)"
   ]
  },
  {
   "cell_type": "code",
   "execution_count": null,
   "metadata": {},
   "outputs": [],
   "source": [
    "tokens2 = text.split()"
   ]
  },
  {
   "cell_type": "code",
   "execution_count": null,
   "metadata": {},
   "outputs": [],
   "source": [
    "tokens = [token.text for token in doc]\n",
    "print(tokens)\n",
    "print(tokens2)"
   ]
  },
  {
   "cell_type": "markdown",
   "metadata": {},
   "source": [
    "## Part-of-Speech tagging"
   ]
  },
  {
   "cell_type": "code",
   "execution_count": null,
   "metadata": {},
   "outputs": [],
   "source": [
    "pos_tags = [(token.text, token.pos_) for token in doc if token.pos_ == \"VERB\"]\n",
    "print(pos_tags)\n"
   ]
  },
  {
   "cell_type": "markdown",
   "metadata": {},
   "source": [
    "## Named entity recognition (NER)"
   ]
  },
  {
   "cell_type": "code",
   "execution_count": null,
   "metadata": {},
   "outputs": [],
   "source": [
    "entities = [(ent.text, ent.label_) for ent in doc.ents]\n",
    "\n",
    "print(entities)"
   ]
  },
  {
   "cell_type": "markdown",
   "metadata": {},
   "source": [
    "## Dependency parsing  "
   ]
  },
  {
   "cell_type": "code",
   "execution_count": null,
   "metadata": {},
   "outputs": [],
   "source": [
    "dependency_tree = [(token.text, token.dep_) for token in doc]\n",
    "print(dependency_tree)"
   ]
  }
 ],
 "metadata": {
  "kernelspec": {
   "display_name": "topics",
   "language": "python",
   "name": "python3"
  },
  "language_info": {
   "codemirror_mode": {
    "name": "ipython",
    "version": 3
   },
   "file_extension": ".py",
   "mimetype": "text/x-python",
   "name": "python",
   "nbconvert_exporter": "python",
   "pygments_lexer": "ipython3",
   "version": "3.11.5"
  }
 },
 "nbformat": 4,
 "nbformat_minor": 2
}
